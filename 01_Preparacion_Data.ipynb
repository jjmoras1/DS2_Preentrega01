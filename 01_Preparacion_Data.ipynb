{
 "cells": [
  {
   "cell_type": "markdown",
   "id": "e2e5833a",
   "metadata": {},
   "source": [
    "# Base de datos 10 canciones más escuchadas por artistas en Youtube Y Spotify hasta 2023\n",
    "\n",
    "El presente trabajo se basa en una base de datos de las 10 canciones más populares de diferentes artistas, en la cual se han medido diferentes parámetros, tales como la danzabilidad, la energía, el volumen, tiempo de reproducción etc. Además, se han registrado los datos de reproducción de cada una de estas canciones en Spotify y YouTube. \n",
    "Nombre del Dataset: Youtube_Spotify.csv\n",
    "Fuente: https://www.kaggle.com/datasets/salvatorerastelli/spotify-and-youtube\n"
   ]
  },
  {
   "cell_type": "code",
   "execution_count": 35,
   "id": "27605238",
   "metadata": {},
   "outputs": [],
   "source": [
    "import pandas as pd\n",
    "import numpy as np\n",
    "import matplotlib.pyplot as plt\n",
    "import seaborn as sns"
   ]
  },
  {
   "cell_type": "code",
   "execution_count": 36,
   "id": "a95758cc",
   "metadata": {},
   "outputs": [],
   "source": [
    "%matplotlib inline"
   ]
  },
  {
   "cell_type": "code",
   "execution_count": 37,
   "id": "5f6922f2",
   "metadata": {},
   "outputs": [],
   "source": [
    "df=pd.read_csv(\"Spotify_Youtube.csv\")"
   ]
  },
  {
   "cell_type": "code",
   "execution_count": 38,
   "id": "3adefcd5",
   "metadata": {},
   "outputs": [
    {
     "name": "stdout",
     "output_type": "stream",
     "text": [
      "<class 'pandas.core.frame.DataFrame'>\n",
      "RangeIndex: 20718 entries, 0 to 20717\n",
      "Data columns (total 28 columns):\n",
      " #   Column            Non-Null Count  Dtype  \n",
      "---  ------            --------------  -----  \n",
      " 0   Unnamed: 0        20718 non-null  int64  \n",
      " 1   Artist            20718 non-null  object \n",
      " 2   Url_spotify       20718 non-null  object \n",
      " 3   Track             20718 non-null  object \n",
      " 4   Album             20718 non-null  object \n",
      " 5   Album_type        20718 non-null  object \n",
      " 6   Uri               20718 non-null  object \n",
      " 7   Danceability      20716 non-null  float64\n",
      " 8   Energy            20716 non-null  float64\n",
      " 9   Key               20716 non-null  float64\n",
      " 10  Loudness          20716 non-null  float64\n",
      " 11  Speechiness       20716 non-null  float64\n",
      " 12  Acousticness      20716 non-null  float64\n",
      " 13  Instrumentalness  20716 non-null  float64\n",
      " 14  Liveness          20716 non-null  float64\n",
      " 15  Valence           20716 non-null  float64\n",
      " 16  Tempo             20716 non-null  float64\n",
      " 17  Duration_ms       20716 non-null  float64\n",
      " 18  Url_youtube       20248 non-null  object \n",
      " 19  Title             20248 non-null  object \n",
      " 20  Channel           20248 non-null  object \n",
      " 21  Views             20248 non-null  float64\n",
      " 22  Likes             20177 non-null  float64\n",
      " 23  Comments          20149 non-null  float64\n",
      " 24  Description       19842 non-null  object \n",
      " 25  Licensed          20248 non-null  object \n",
      " 26  official_video    20248 non-null  object \n",
      " 27  Stream            20142 non-null  float64\n",
      "dtypes: float64(15), int64(1), object(12)\n",
      "memory usage: 4.4+ MB\n"
     ]
    }
   ],
   "source": [
    "df.info()"
   ]
  },
  {
   "cell_type": "code",
   "execution_count": 39,
   "id": "6c60283c",
   "metadata": {},
   "outputs": [
    {
     "data": {
      "text/html": [
       "<div>\n",
       "<style scoped>\n",
       "    .dataframe tbody tr th:only-of-type {\n",
       "        vertical-align: middle;\n",
       "    }\n",
       "\n",
       "    .dataframe tbody tr th {\n",
       "        vertical-align: top;\n",
       "    }\n",
       "\n",
       "    .dataframe thead th {\n",
       "        text-align: right;\n",
       "    }\n",
       "</style>\n",
       "<table border=\"1\" class=\"dataframe\">\n",
       "  <thead>\n",
       "    <tr style=\"text-align: right;\">\n",
       "      <th></th>\n",
       "      <th>Unnamed: 0</th>\n",
       "      <th>Artist</th>\n",
       "      <th>Url_spotify</th>\n",
       "      <th>Track</th>\n",
       "      <th>Album</th>\n",
       "      <th>Album_type</th>\n",
       "      <th>Uri</th>\n",
       "      <th>Danceability</th>\n",
       "      <th>Energy</th>\n",
       "      <th>Key</th>\n",
       "      <th>...</th>\n",
       "      <th>Url_youtube</th>\n",
       "      <th>Title</th>\n",
       "      <th>Channel</th>\n",
       "      <th>Views</th>\n",
       "      <th>Likes</th>\n",
       "      <th>Comments</th>\n",
       "      <th>Description</th>\n",
       "      <th>Licensed</th>\n",
       "      <th>official_video</th>\n",
       "      <th>Stream</th>\n",
       "    </tr>\n",
       "  </thead>\n",
       "  <tbody>\n",
       "    <tr>\n",
       "      <th>0</th>\n",
       "      <td>0</td>\n",
       "      <td>Gorillaz</td>\n",
       "      <td>https://open.spotify.com/artist/3AA28KZvwAUcZu...</td>\n",
       "      <td>Feel Good Inc.</td>\n",
       "      <td>Demon Days</td>\n",
       "      <td>album</td>\n",
       "      <td>spotify:track:0d28khcov6AiegSCpG5TuT</td>\n",
       "      <td>0.818</td>\n",
       "      <td>0.705</td>\n",
       "      <td>6.0</td>\n",
       "      <td>...</td>\n",
       "      <td>https://www.youtube.com/watch?v=HyHNuVaZJ-k</td>\n",
       "      <td>Gorillaz - Feel Good Inc. (Official Video)</td>\n",
       "      <td>Gorillaz</td>\n",
       "      <td>693555221.0</td>\n",
       "      <td>6220896.0</td>\n",
       "      <td>169907.0</td>\n",
       "      <td>Official HD Video for Gorillaz' fantastic trac...</td>\n",
       "      <td>True</td>\n",
       "      <td>True</td>\n",
       "      <td>1.040235e+09</td>\n",
       "    </tr>\n",
       "    <tr>\n",
       "      <th>1</th>\n",
       "      <td>1</td>\n",
       "      <td>Gorillaz</td>\n",
       "      <td>https://open.spotify.com/artist/3AA28KZvwAUcZu...</td>\n",
       "      <td>Rhinestone Eyes</td>\n",
       "      <td>Plastic Beach</td>\n",
       "      <td>album</td>\n",
       "      <td>spotify:track:1foMv2HQwfQ2vntFf9HFeG</td>\n",
       "      <td>0.676</td>\n",
       "      <td>0.703</td>\n",
       "      <td>8.0</td>\n",
       "      <td>...</td>\n",
       "      <td>https://www.youtube.com/watch?v=yYDmaexVHic</td>\n",
       "      <td>Gorillaz - Rhinestone Eyes [Storyboard Film] (...</td>\n",
       "      <td>Gorillaz</td>\n",
       "      <td>72011645.0</td>\n",
       "      <td>1079128.0</td>\n",
       "      <td>31003.0</td>\n",
       "      <td>The official video for Gorillaz - Rhinestone E...</td>\n",
       "      <td>True</td>\n",
       "      <td>True</td>\n",
       "      <td>3.100837e+08</td>\n",
       "    </tr>\n",
       "    <tr>\n",
       "      <th>2</th>\n",
       "      <td>2</td>\n",
       "      <td>Gorillaz</td>\n",
       "      <td>https://open.spotify.com/artist/3AA28KZvwAUcZu...</td>\n",
       "      <td>New Gold (feat. Tame Impala and Bootie Brown)</td>\n",
       "      <td>New Gold (feat. Tame Impala and Bootie Brown)</td>\n",
       "      <td>single</td>\n",
       "      <td>spotify:track:64dLd6rVqDLtkXFYrEUHIU</td>\n",
       "      <td>0.695</td>\n",
       "      <td>0.923</td>\n",
       "      <td>1.0</td>\n",
       "      <td>...</td>\n",
       "      <td>https://www.youtube.com/watch?v=qJa-VFwPpYA</td>\n",
       "      <td>Gorillaz - New Gold ft. Tame Impala &amp; Bootie B...</td>\n",
       "      <td>Gorillaz</td>\n",
       "      <td>8435055.0</td>\n",
       "      <td>282142.0</td>\n",
       "      <td>7399.0</td>\n",
       "      <td>Gorillaz - New Gold ft. Tame Impala &amp; Bootie B...</td>\n",
       "      <td>True</td>\n",
       "      <td>True</td>\n",
       "      <td>6.306347e+07</td>\n",
       "    </tr>\n",
       "    <tr>\n",
       "      <th>3</th>\n",
       "      <td>3</td>\n",
       "      <td>Gorillaz</td>\n",
       "      <td>https://open.spotify.com/artist/3AA28KZvwAUcZu...</td>\n",
       "      <td>On Melancholy Hill</td>\n",
       "      <td>Plastic Beach</td>\n",
       "      <td>album</td>\n",
       "      <td>spotify:track:0q6LuUqGLUiCPP1cbdwFs3</td>\n",
       "      <td>0.689</td>\n",
       "      <td>0.739</td>\n",
       "      <td>2.0</td>\n",
       "      <td>...</td>\n",
       "      <td>https://www.youtube.com/watch?v=04mfKJWDSzI</td>\n",
       "      <td>Gorillaz - On Melancholy Hill (Official Video)</td>\n",
       "      <td>Gorillaz</td>\n",
       "      <td>211754952.0</td>\n",
       "      <td>1788577.0</td>\n",
       "      <td>55229.0</td>\n",
       "      <td>Follow Gorillaz online:\\nhttp://gorillaz.com \\...</td>\n",
       "      <td>True</td>\n",
       "      <td>True</td>\n",
       "      <td>4.346636e+08</td>\n",
       "    </tr>\n",
       "    <tr>\n",
       "      <th>4</th>\n",
       "      <td>4</td>\n",
       "      <td>Gorillaz</td>\n",
       "      <td>https://open.spotify.com/artist/3AA28KZvwAUcZu...</td>\n",
       "      <td>Clint Eastwood</td>\n",
       "      <td>Gorillaz</td>\n",
       "      <td>album</td>\n",
       "      <td>spotify:track:7yMiX7n9SBvadzox8T5jzT</td>\n",
       "      <td>0.663</td>\n",
       "      <td>0.694</td>\n",
       "      <td>10.0</td>\n",
       "      <td>...</td>\n",
       "      <td>https://www.youtube.com/watch?v=1V_xRb0x9aw</td>\n",
       "      <td>Gorillaz - Clint Eastwood (Official Video)</td>\n",
       "      <td>Gorillaz</td>\n",
       "      <td>618480958.0</td>\n",
       "      <td>6197318.0</td>\n",
       "      <td>155930.0</td>\n",
       "      <td>The official music video for Gorillaz - Clint ...</td>\n",
       "      <td>True</td>\n",
       "      <td>True</td>\n",
       "      <td>6.172597e+08</td>\n",
       "    </tr>\n",
       "  </tbody>\n",
       "</table>\n",
       "<p>5 rows × 28 columns</p>\n",
       "</div>"
      ],
      "text/plain": [
       "   Unnamed: 0    Artist                                        Url_spotify  \\\n",
       "0           0  Gorillaz  https://open.spotify.com/artist/3AA28KZvwAUcZu...   \n",
       "1           1  Gorillaz  https://open.spotify.com/artist/3AA28KZvwAUcZu...   \n",
       "2           2  Gorillaz  https://open.spotify.com/artist/3AA28KZvwAUcZu...   \n",
       "3           3  Gorillaz  https://open.spotify.com/artist/3AA28KZvwAUcZu...   \n",
       "4           4  Gorillaz  https://open.spotify.com/artist/3AA28KZvwAUcZu...   \n",
       "\n",
       "                                           Track  \\\n",
       "0                                 Feel Good Inc.   \n",
       "1                                Rhinestone Eyes   \n",
       "2  New Gold (feat. Tame Impala and Bootie Brown)   \n",
       "3                             On Melancholy Hill   \n",
       "4                                 Clint Eastwood   \n",
       "\n",
       "                                           Album Album_type  \\\n",
       "0                                     Demon Days      album   \n",
       "1                                  Plastic Beach      album   \n",
       "2  New Gold (feat. Tame Impala and Bootie Brown)     single   \n",
       "3                                  Plastic Beach      album   \n",
       "4                                       Gorillaz      album   \n",
       "\n",
       "                                    Uri  Danceability  Energy   Key  ...  \\\n",
       "0  spotify:track:0d28khcov6AiegSCpG5TuT         0.818   0.705   6.0  ...   \n",
       "1  spotify:track:1foMv2HQwfQ2vntFf9HFeG         0.676   0.703   8.0  ...   \n",
       "2  spotify:track:64dLd6rVqDLtkXFYrEUHIU         0.695   0.923   1.0  ...   \n",
       "3  spotify:track:0q6LuUqGLUiCPP1cbdwFs3         0.689   0.739   2.0  ...   \n",
       "4  spotify:track:7yMiX7n9SBvadzox8T5jzT         0.663   0.694  10.0  ...   \n",
       "\n",
       "                                   Url_youtube  \\\n",
       "0  https://www.youtube.com/watch?v=HyHNuVaZJ-k   \n",
       "1  https://www.youtube.com/watch?v=yYDmaexVHic   \n",
       "2  https://www.youtube.com/watch?v=qJa-VFwPpYA   \n",
       "3  https://www.youtube.com/watch?v=04mfKJWDSzI   \n",
       "4  https://www.youtube.com/watch?v=1V_xRb0x9aw   \n",
       "\n",
       "                                               Title   Channel        Views  \\\n",
       "0         Gorillaz - Feel Good Inc. (Official Video)  Gorillaz  693555221.0   \n",
       "1  Gorillaz - Rhinestone Eyes [Storyboard Film] (...  Gorillaz   72011645.0   \n",
       "2  Gorillaz - New Gold ft. Tame Impala & Bootie B...  Gorillaz    8435055.0   \n",
       "3     Gorillaz - On Melancholy Hill (Official Video)  Gorillaz  211754952.0   \n",
       "4         Gorillaz - Clint Eastwood (Official Video)  Gorillaz  618480958.0   \n",
       "\n",
       "       Likes  Comments                                        Description  \\\n",
       "0  6220896.0  169907.0  Official HD Video for Gorillaz' fantastic trac...   \n",
       "1  1079128.0   31003.0  The official video for Gorillaz - Rhinestone E...   \n",
       "2   282142.0    7399.0  Gorillaz - New Gold ft. Tame Impala & Bootie B...   \n",
       "3  1788577.0   55229.0  Follow Gorillaz online:\\nhttp://gorillaz.com \\...   \n",
       "4  6197318.0  155930.0  The official music video for Gorillaz - Clint ...   \n",
       "\n",
       "   Licensed official_video        Stream  \n",
       "0      True           True  1.040235e+09  \n",
       "1      True           True  3.100837e+08  \n",
       "2      True           True  6.306347e+07  \n",
       "3      True           True  4.346636e+08  \n",
       "4      True           True  6.172597e+08  \n",
       "\n",
       "[5 rows x 28 columns]"
      ]
     },
     "execution_count": 39,
     "metadata": {},
     "output_type": "execute_result"
    }
   ],
   "source": [
    "df.head()"
   ]
  },
  {
   "cell_type": "code",
   "execution_count": 40,
   "id": "6f49d1d8",
   "metadata": {},
   "outputs": [
    {
     "data": {
      "text/plain": [
       "0        spotify:track:0d28khcov6AiegSCpG5TuT\n",
       "1        spotify:track:1foMv2HQwfQ2vntFf9HFeG\n",
       "2        spotify:track:64dLd6rVqDLtkXFYrEUHIU\n",
       "3        spotify:track:0q6LuUqGLUiCPP1cbdwFs3\n",
       "4        spotify:track:7yMiX7n9SBvadzox8T5jzT\n",
       "                         ...                 \n",
       "20713    spotify:track:0RtcKQGyI4hr8FgFH1TuYG\n",
       "20714    spotify:track:3rHvPA8lUnPBkaLyPOc0VV\n",
       "20715    spotify:track:4jk00YxPtPbhvHJE9N4ddv\n",
       "20716    spotify:track:5EyErbpsugWliX006eTDex\n",
       "20717    spotify:track:6lOn0jz1QpjcWeXo1oMm0k\n",
       "Name: Uri, Length: 20718, dtype: object"
      ]
     },
     "execution_count": 40,
     "metadata": {},
     "output_type": "execute_result"
    }
   ],
   "source": [
    "df['Uri']\n"
   ]
  },
  {
   "cell_type": "markdown",
   "id": "59c04f1c",
   "metadata": {},
   "source": [
    "Aquí evaluaremos el número de artistas que hay"
   ]
  },
  {
   "cell_type": "code",
   "execution_count": 41,
   "id": "c5cc2cf2",
   "metadata": {},
   "outputs": [
    {
     "data": {
      "text/plain": [
       "2079"
      ]
     },
     "execution_count": 41,
     "metadata": {},
     "output_type": "execute_result"
    }
   ],
   "source": [
    "len(df['Artist'].unique())"
   ]
  },
  {
   "cell_type": "markdown",
   "id": "2fb489fd",
   "metadata": {},
   "source": [
    "Eliminacion de columnas innecesarias"
   ]
  },
  {
   "cell_type": "code",
   "execution_count": 42,
   "id": "fb2b547e",
   "metadata": {},
   "outputs": [],
   "source": [
    "df=df.drop(['Uri','Url_spotify','Url_youtube','Description'], axis=1)"
   ]
  },
  {
   "cell_type": "code",
   "execution_count": 43,
   "id": "c801db12",
   "metadata": {},
   "outputs": [
    {
     "name": "stdout",
     "output_type": "stream",
     "text": [
      "<class 'pandas.core.frame.DataFrame'>\n",
      "RangeIndex: 20718 entries, 0 to 20717\n",
      "Data columns (total 24 columns):\n",
      " #   Column            Non-Null Count  Dtype  \n",
      "---  ------            --------------  -----  \n",
      " 0   Unnamed: 0        20718 non-null  int64  \n",
      " 1   Artist            20718 non-null  object \n",
      " 2   Track             20718 non-null  object \n",
      " 3   Album             20718 non-null  object \n",
      " 4   Album_type        20718 non-null  object \n",
      " 5   Danceability      20716 non-null  float64\n",
      " 6   Energy            20716 non-null  float64\n",
      " 7   Key               20716 non-null  float64\n",
      " 8   Loudness          20716 non-null  float64\n",
      " 9   Speechiness       20716 non-null  float64\n",
      " 10  Acousticness      20716 non-null  float64\n",
      " 11  Instrumentalness  20716 non-null  float64\n",
      " 12  Liveness          20716 non-null  float64\n",
      " 13  Valence           20716 non-null  float64\n",
      " 14  Tempo             20716 non-null  float64\n",
      " 15  Duration_ms       20716 non-null  float64\n",
      " 16  Title             20248 non-null  object \n",
      " 17  Channel           20248 non-null  object \n",
      " 18  Views             20248 non-null  float64\n",
      " 19  Likes             20177 non-null  float64\n",
      " 20  Comments          20149 non-null  float64\n",
      " 21  Licensed          20248 non-null  object \n",
      " 22  official_video    20248 non-null  object \n",
      " 23  Stream            20142 non-null  float64\n",
      "dtypes: float64(15), int64(1), object(8)\n",
      "memory usage: 3.8+ MB\n"
     ]
    }
   ],
   "source": [
    "df.info()"
   ]
  },
  {
   "cell_type": "code",
   "execution_count": 44,
   "id": "b74909aa",
   "metadata": {},
   "outputs": [
    {
     "data": {
      "text/html": [
       "<div>\n",
       "<style scoped>\n",
       "    .dataframe tbody tr th:only-of-type {\n",
       "        vertical-align: middle;\n",
       "    }\n",
       "\n",
       "    .dataframe tbody tr th {\n",
       "        vertical-align: top;\n",
       "    }\n",
       "\n",
       "    .dataframe thead th {\n",
       "        text-align: right;\n",
       "    }\n",
       "</style>\n",
       "<table border=\"1\" class=\"dataframe\">\n",
       "  <thead>\n",
       "    <tr style=\"text-align: right;\">\n",
       "      <th></th>\n",
       "      <th>Unnamed: 0</th>\n",
       "      <th>Artist</th>\n",
       "      <th>Track</th>\n",
       "      <th>Album</th>\n",
       "      <th>Album_type</th>\n",
       "      <th>Danceability</th>\n",
       "      <th>Energy</th>\n",
       "      <th>Key</th>\n",
       "      <th>Loudness</th>\n",
       "      <th>Speechiness</th>\n",
       "      <th>...</th>\n",
       "      <th>Tempo</th>\n",
       "      <th>Duration_ms</th>\n",
       "      <th>Title</th>\n",
       "      <th>Channel</th>\n",
       "      <th>Views</th>\n",
       "      <th>Likes</th>\n",
       "      <th>Comments</th>\n",
       "      <th>Licensed</th>\n",
       "      <th>official_video</th>\n",
       "      <th>Stream</th>\n",
       "    </tr>\n",
       "  </thead>\n",
       "  <tbody>\n",
       "    <tr>\n",
       "      <th>4873</th>\n",
       "      <td>4873</td>\n",
       "      <td>The Chicks</td>\n",
       "      <td>Wide Open Spaces</td>\n",
       "      <td>Wide Open Spaces</td>\n",
       "      <td>album</td>\n",
       "      <td>0.563</td>\n",
       "      <td>0.544</td>\n",
       "      <td>4.0</td>\n",
       "      <td>-6.102</td>\n",
       "      <td>0.0306</td>\n",
       "      <td>...</td>\n",
       "      <td>179.351</td>\n",
       "      <td>223832.0</td>\n",
       "      <td>The Chicks - Wide Open Spaces (Official Video)</td>\n",
       "      <td>dixiechicksVEVO</td>\n",
       "      <td>25187045.0</td>\n",
       "      <td>131215.0</td>\n",
       "      <td>3929.0</td>\n",
       "      <td>True</td>\n",
       "      <td>True</td>\n",
       "      <td>123015477.0</td>\n",
       "    </tr>\n",
       "  </tbody>\n",
       "</table>\n",
       "<p>1 rows × 24 columns</p>\n",
       "</div>"
      ],
      "text/plain": [
       "      Unnamed: 0      Artist             Track             Album Album_type  \\\n",
       "4873        4873  The Chicks  Wide Open Spaces  Wide Open Spaces      album   \n",
       "\n",
       "      Danceability  Energy  Key  Loudness  Speechiness  ...    Tempo  \\\n",
       "4873         0.563   0.544  4.0    -6.102       0.0306  ...  179.351   \n",
       "\n",
       "      Duration_ms                                           Title  \\\n",
       "4873     223832.0  The Chicks - Wide Open Spaces (Official Video)   \n",
       "\n",
       "              Channel       Views     Likes Comments Licensed  official_video  \\\n",
       "4873  dixiechicksVEVO  25187045.0  131215.0   3929.0     True            True   \n",
       "\n",
       "           Stream  \n",
       "4873  123015477.0  \n",
       "\n",
       "[1 rows x 24 columns]"
      ]
     },
     "execution_count": 44,
     "metadata": {},
     "output_type": "execute_result"
    }
   ],
   "source": [
    "df.sample()"
   ]
  },
  {
   "cell_type": "markdown",
   "id": "13907196",
   "metadata": {},
   "source": [
    "En el Notebook anexo 02_Fechas de lanzamiento de canciones.ipynb se usa la api de spotify  para asignar las fechas a cada una de las canciones. De los archivos resultantes se crea una nueva base de datos: "
   ]
  },
  {
   "cell_type": "code",
   "execution_count": 48,
   "id": "77da6875",
   "metadata": {},
   "outputs": [],
   "source": [
    "df1=pd.read_csv(\"df1000.csv\")\n",
    "df2=pd.read_csv(\"df1000_3000.csv\")\n",
    "df3=pd.read_csv(\"df3000_7000.csv\")\n",
    "df4=pd.read_csv(\"df7000_11000.csv\")\n",
    "df5=pd.read_csv(\"df11000_15000.csv\")\n",
    "df6=pd.read_csv(\"df15000_19000.csv\")\n",
    "df7=pd.read_csv(\"df19000_20718.csv\")"
   ]
  },
  {
   "cell_type": "code",
   "execution_count": 51,
   "id": "712aa915",
   "metadata": {},
   "outputs": [],
   "source": [
    "df_fecha = pd.concat([df1, df2, df3,df4,df5,df6,df7], ignore_index=True)"
   ]
  },
  {
   "cell_type": "code",
   "execution_count": 52,
   "id": "7ec07bbb",
   "metadata": {},
   "outputs": [
    {
     "name": "stdout",
     "output_type": "stream",
     "text": [
      "<class 'pandas.core.frame.DataFrame'>\n",
      "RangeIndex: 20718 entries, 0 to 20717\n",
      "Data columns (total 26 columns):\n",
      " #   Column            Non-Null Count  Dtype  \n",
      "---  ------            --------------  -----  \n",
      " 0   Unnamed: 0        20718 non-null  int64  \n",
      " 1   Track_Id          20718 non-null  int64  \n",
      " 2   Artist            20718 non-null  object \n",
      " 3   Track             20718 non-null  object \n",
      " 4   Album             20718 non-null  object \n",
      " 5   Album_type        20718 non-null  object \n",
      " 6   Danceability      20716 non-null  float64\n",
      " 7   Energy            20716 non-null  float64\n",
      " 8   Key               20716 non-null  float64\n",
      " 9   Loudness          20716 non-null  float64\n",
      " 10  Speechiness       20716 non-null  float64\n",
      " 11  Acousticness      20716 non-null  float64\n",
      " 12  Instrumentalness  20716 non-null  float64\n",
      " 13  Liveness          20716 non-null  float64\n",
      " 14  Valence           20716 non-null  float64\n",
      " 15  Tempo             20716 non-null  float64\n",
      " 16  Duration_ms       20716 non-null  float64\n",
      " 17  Title             20248 non-null  object \n",
      " 18  Channel           20248 non-null  object \n",
      " 19  Views             20248 non-null  float64\n",
      " 20  Likes             20177 non-null  float64\n",
      " 21  Comments          20149 non-null  float64\n",
      " 22  Licensed          20248 non-null  object \n",
      " 23  official_video    20248 non-null  object \n",
      " 24  Stream            20142 non-null  float64\n",
      " 25  Date              16524 non-null  object \n",
      "dtypes: float64(15), int64(2), object(9)\n",
      "memory usage: 4.1+ MB\n"
     ]
    }
   ],
   "source": [
    "df_fecha.info()"
   ]
  },
  {
   "cell_type": "markdown",
   "id": "ea006f93",
   "metadata": {},
   "source": [
    "Como se puede ver hay una nueva columna de fecha Date, sin embargo todavía faltan algunas canciones por encontrar su fecha"
   ]
  },
  {
   "cell_type": "code",
   "execution_count": 53,
   "id": "91b97bdf",
   "metadata": {},
   "outputs": [
    {
     "data": {
      "text/html": [
       "<div>\n",
       "<style scoped>\n",
       "    .dataframe tbody tr th:only-of-type {\n",
       "        vertical-align: middle;\n",
       "    }\n",
       "\n",
       "    .dataframe tbody tr th {\n",
       "        vertical-align: top;\n",
       "    }\n",
       "\n",
       "    .dataframe thead th {\n",
       "        text-align: right;\n",
       "    }\n",
       "</style>\n",
       "<table border=\"1\" class=\"dataframe\">\n",
       "  <thead>\n",
       "    <tr style=\"text-align: right;\">\n",
       "      <th></th>\n",
       "      <th>Unnamed: 0</th>\n",
       "      <th>Track_Id</th>\n",
       "      <th>Artist</th>\n",
       "      <th>Track</th>\n",
       "      <th>Album</th>\n",
       "      <th>Album_type</th>\n",
       "      <th>Danceability</th>\n",
       "      <th>Energy</th>\n",
       "      <th>Key</th>\n",
       "      <th>Loudness</th>\n",
       "      <th>...</th>\n",
       "      <th>Duration_ms</th>\n",
       "      <th>Title</th>\n",
       "      <th>Channel</th>\n",
       "      <th>Views</th>\n",
       "      <th>Likes</th>\n",
       "      <th>Comments</th>\n",
       "      <th>Licensed</th>\n",
       "      <th>official_video</th>\n",
       "      <th>Stream</th>\n",
       "      <th>Date</th>\n",
       "    </tr>\n",
       "  </thead>\n",
       "  <tbody>\n",
       "    <tr>\n",
       "      <th>4415</th>\n",
       "      <td>1415</td>\n",
       "      <td>4415</td>\n",
       "      <td>Sujatha</td>\n",
       "      <td>Oru Kaathilola</td>\n",
       "      <td>Vettom (Original Motion Picture Soundtrack)</td>\n",
       "      <td>album</td>\n",
       "      <td>0.694</td>\n",
       "      <td>0.758</td>\n",
       "      <td>2.0</td>\n",
       "      <td>-8.881</td>\n",
       "      <td>...</td>\n",
       "      <td>349937.0</td>\n",
       "      <td>Oru Kathilola Njan Video Song | Vettam | Dilee...</td>\n",
       "      <td>Sree Movies Music</td>\n",
       "      <td>1248938.0</td>\n",
       "      <td>8310.0</td>\n",
       "      <td>322.0</td>\n",
       "      <td>True</td>\n",
       "      <td>True</td>\n",
       "      <td>4935139.0</td>\n",
       "      <td>NaN</td>\n",
       "    </tr>\n",
       "  </tbody>\n",
       "</table>\n",
       "<p>1 rows × 26 columns</p>\n",
       "</div>"
      ],
      "text/plain": [
       "      Unnamed: 0  Track_Id   Artist           Track  \\\n",
       "4415        1415      4415  Sujatha  Oru Kaathilola   \n",
       "\n",
       "                                            Album Album_type  Danceability  \\\n",
       "4415  Vettom (Original Motion Picture Soundtrack)      album         0.694   \n",
       "\n",
       "      Energy  Key  Loudness  ...  Duration_ms  \\\n",
       "4415   0.758  2.0    -8.881  ...     349937.0   \n",
       "\n",
       "                                                  Title            Channel  \\\n",
       "4415  Oru Kathilola Njan Video Song | Vettam | Dilee...  Sree Movies Music   \n",
       "\n",
       "          Views   Likes  Comments  Licensed official_video     Stream  Date  \n",
       "4415  1248938.0  8310.0     322.0      True           True  4935139.0   NaN  \n",
       "\n",
       "[1 rows x 26 columns]"
      ]
     },
     "execution_count": 53,
     "metadata": {},
     "output_type": "execute_result"
    }
   ],
   "source": [
    "df_fecha.sample()"
   ]
  },
  {
   "cell_type": "markdown",
   "id": "88ab0bb1",
   "metadata": {},
   "source": [
    "En el Notebook anexo 03_Fecha album.ipynb se terminande llenar las fechas faltantes. Primero se usa la api de spotify con las fechas de lanzamiento de los albumnes faltantes y las restantes usando la API de youtube. De los archivos resultantes se crea una nueva base de datos: "
   ]
  },
  {
   "cell_type": "code",
   "execution_count": 59,
   "id": "284866f8",
   "metadata": {},
   "outputs": [],
   "source": [
    "df_final=pd.read_csv(\"df_final.csv\")"
   ]
  },
  {
   "cell_type": "code",
   "execution_count": 60,
   "id": "45a8a06c",
   "metadata": {},
   "outputs": [
    {
     "name": "stdout",
     "output_type": "stream",
     "text": [
      "<class 'pandas.core.frame.DataFrame'>\n",
      "RangeIndex: 20718 entries, 0 to 20717\n",
      "Data columns (total 27 columns):\n",
      " #   Column            Non-Null Count  Dtype  \n",
      "---  ------            --------------  -----  \n",
      " 0   Unnamed: 0        20718 non-null  int64  \n",
      " 1   Acousticness      20716 non-null  float64\n",
      " 2   Album             20718 non-null  object \n",
      " 3   Album_type        20718 non-null  object \n",
      " 4   Artist            20718 non-null  object \n",
      " 5   Channel           20248 non-null  object \n",
      " 6   Comments          20149 non-null  float64\n",
      " 7   Danceability      20716 non-null  float64\n",
      " 8   Date              20718 non-null  object \n",
      " 9   Duration_ms       20716 non-null  float64\n",
      " 10  Energy            20716 non-null  float64\n",
      " 11  Instrumentalness  20716 non-null  float64\n",
      " 12  Key               20716 non-null  float64\n",
      " 13  Licensed          20248 non-null  object \n",
      " 14  Likes             20177 non-null  float64\n",
      " 15  Liveness          20716 non-null  float64\n",
      " 16  Loudness          20716 non-null  float64\n",
      " 17  Speechiness       20716 non-null  float64\n",
      " 18  Stream            20142 non-null  float64\n",
      " 19  Tempo             20716 non-null  float64\n",
      " 20  Title             20248 non-null  object \n",
      " 21  Track             20718 non-null  object \n",
      " 22  Track_Id          20718 non-null  int64  \n",
      " 23  Valence           20716 non-null  float64\n",
      " 24  Views             20248 non-null  float64\n",
      " 25  official_video    20248 non-null  object \n",
      " 26  Artist_ID         20718 non-null  int64  \n",
      "dtypes: float64(15), int64(3), object(9)\n",
      "memory usage: 4.3+ MB\n"
     ]
    }
   ],
   "source": [
    "df_final.info()"
   ]
  },
  {
   "cell_type": "code",
   "execution_count": 61,
   "id": "a6e5d004",
   "metadata": {},
   "outputs": [],
   "source": [
    "df_final.rename( columns = { \"Unnamed: 0\": \"Track_Id\"}, inplace=True)"
   ]
  },
  {
   "cell_type": "markdown",
   "id": "31da8e68",
   "metadata": {},
   "source": [
    "Vamos a cambiar el tipo de la columna Date de object a Date"
   ]
  },
  {
   "cell_type": "code",
   "execution_count": 62,
   "id": "5ce762c2",
   "metadata": {},
   "outputs": [],
   "source": [
    "df_final['Date'] = pd.to_datetime(df_final['Date'])"
   ]
  },
  {
   "cell_type": "code",
   "execution_count": 63,
   "id": "f02d0672",
   "metadata": {},
   "outputs": [
    {
     "name": "stdout",
     "output_type": "stream",
     "text": [
      "<class 'pandas.core.frame.DataFrame'>\n",
      "RangeIndex: 20718 entries, 0 to 20717\n",
      "Data columns (total 27 columns):\n",
      " #   Column            Non-Null Count  Dtype         \n",
      "---  ------            --------------  -----         \n",
      " 0   Track_Id          20718 non-null  int64         \n",
      " 1   Acousticness      20716 non-null  float64       \n",
      " 2   Album             20718 non-null  object        \n",
      " 3   Album_type        20718 non-null  object        \n",
      " 4   Artist            20718 non-null  object        \n",
      " 5   Channel           20248 non-null  object        \n",
      " 6   Comments          20149 non-null  float64       \n",
      " 7   Danceability      20716 non-null  float64       \n",
      " 8   Date              20718 non-null  datetime64[ns]\n",
      " 9   Duration_ms       20716 non-null  float64       \n",
      " 10  Energy            20716 non-null  float64       \n",
      " 11  Instrumentalness  20716 non-null  float64       \n",
      " 12  Key               20716 non-null  float64       \n",
      " 13  Licensed          20248 non-null  object        \n",
      " 14  Likes             20177 non-null  float64       \n",
      " 15  Liveness          20716 non-null  float64       \n",
      " 16  Loudness          20716 non-null  float64       \n",
      " 17  Speechiness       20716 non-null  float64       \n",
      " 18  Stream            20142 non-null  float64       \n",
      " 19  Tempo             20716 non-null  float64       \n",
      " 20  Title             20248 non-null  object        \n",
      " 21  Track             20718 non-null  object        \n",
      " 22  Track_Id          20718 non-null  int64         \n",
      " 23  Valence           20716 non-null  float64       \n",
      " 24  Views             20248 non-null  float64       \n",
      " 25  official_video    20248 non-null  object        \n",
      " 26  Artist_ID         20718 non-null  int64         \n",
      "dtypes: datetime64[ns](1), float64(15), int64(3), object(8)\n",
      "memory usage: 4.3+ MB\n"
     ]
    }
   ],
   "source": [
    "df_final.info()"
   ]
  },
  {
   "cell_type": "code",
   "execution_count": 64,
   "id": "b0f0713a",
   "metadata": {},
   "outputs": [
    {
     "data": {
      "text/plain": [
       "Index(['Track_Id', 'Acousticness', 'Album', 'Album_type', 'Artist', 'Channel',\n",
       "       'Comments', 'Danceability', 'Date', 'Duration_ms', 'Energy',\n",
       "       'Instrumentalness', 'Key', 'Licensed', 'Likes', 'Liveness', 'Loudness',\n",
       "       'Speechiness', 'Stream', 'Tempo', 'Title', 'Track', 'Track_Id',\n",
       "       'Valence', 'Views', 'official_video', 'Artist_ID'],\n",
       "      dtype='object')"
      ]
     },
     "execution_count": 64,
     "metadata": {},
     "output_type": "execute_result"
    }
   ],
   "source": [
    "df_final.columns"
   ]
  },
  {
   "cell_type": "markdown",
   "id": "81d22a16",
   "metadata": {},
   "source": [
    "Usando la API de spotify vamos a encontrar los principales generos de cada artista"
   ]
  },
  {
   "cell_type": "code",
   "execution_count": 80,
   "id": "156ae98e",
   "metadata": {},
   "outputs": [
    {
     "data": {
      "text/plain": [
       "array(['Gorillaz', 'Red Hot Chili Peppers', '50 Cent', ..., 'LE SSERAFIM',\n",
       "       'ThxSoMch', 'SICK LEGEND'], shape=(2079,), dtype=object)"
      ]
     },
     "execution_count": 80,
     "metadata": {},
     "output_type": "execute_result"
    }
   ],
   "source": [
    "df_final['Artist'].unique()\n"
   ]
  },
  {
   "cell_type": "code",
   "execution_count": 83,
   "id": "d79bedd1",
   "metadata": {},
   "outputs": [],
   "source": [
    "df_Artistas = pd.DataFrame(df_final['Artist'].unique(), columns=['Artist'])\n",
    "\n"
   ]
  },
  {
   "cell_type": "code",
   "execution_count": 84,
   "id": "a1f9f514",
   "metadata": {},
   "outputs": [
    {
     "data": {
      "text/plain": [
       "0                    Gorillaz\n",
       "1       Red Hot Chili Peppers\n",
       "2                     50 Cent\n",
       "3                   Metallica\n",
       "4                    Coldplay\n",
       "                ...          \n",
       "2074           Grupo Frontera\n",
       "2075                Jung Kook\n",
       "2076              LE SSERAFIM\n",
       "2077                 ThxSoMch\n",
       "2078              SICK LEGEND\n",
       "Name: Artist, Length: 2079, dtype: object"
      ]
     },
     "execution_count": 84,
     "metadata": {},
     "output_type": "execute_result"
    }
   ],
   "source": [
    "df_Artistas['Artist']"
   ]
  },
  {
   "cell_type": "code",
   "execution_count": 89,
   "id": "f1875adf",
   "metadata": {},
   "outputs": [],
   "source": [
    "def obtener_genero_musical(nombre_artista):\n",
    "    \"\"\"\n",
    "    Obtiene el género más representativo de un artista utilizando la API de Spotify.\n",
    "\n",
    "    :param nombre_artista: Nombre del artista (str)\n",
    "    :return: Género más representativo del artista o mensaje de error (str)\n",
    "    \"\"\"\n",
    "    # Credenciales de cliente para autenticación en Spotify\n",
    "    client_id = 'ca75f13f0dd54ce3992b9cfd16234307'\n",
    "    client_secret = '396fae6eae2a47fd8e3beeaad315c80b'\n",
    "    \n",
    "    # Manejo de autenticación con Spotipy\n",
    "    client_credentials_manager = SpotifyClientCredentials(client_id=client_id, client_secret=client_secret)\n",
    "    sp = spotipy.Spotify(client_credentials_manager=client_credentials_manager)\n",
    "\n",
    "    try:\n",
    "        # Buscar al artista por nombre\n",
    "        result = sp.search(q='artist:' + nombre_artista, type='artist')\n",
    "\n",
    "        # Verificar si se encontraron resultados\n",
    "        if not result['artists']['items']:\n",
    "            return \"Artista no encontrado\"\n",
    "\n",
    "        # Obtener el ID del primer resultado del artista\n",
    "        artist_id = result['artists']['items'][0]['id']\n",
    "\n",
    "        # Obtener detalles del artista\n",
    "        artist_info = sp.artist(artist_id)\n",
    "\n",
    "        # Extraer los géneros asociados\n",
    "        genres = artist_info['genres']\n",
    "        if genres:\n",
    "            return ', '.join(genres)  # Combinar géneros en una sola cadena\n",
    "        else:\n",
    "            return \"Género no disponible\"\n",
    "\n",
    "    except Exception as e:\n",
    "        # Manejar errores inesperados\n",
    "        return f\"Error al obtener género: {e}\"\n"
   ]
  },
  {
   "cell_type": "code",
   "execution_count": 90,
   "id": "539e24f0",
   "metadata": {},
   "outputs": [],
   "source": [
    "df_Artistas['Genero'] = df_Artistas['Artist'].apply(lambda x: obtener_genero_musical(x.lower()))\n",
    "\n"
   ]
  },
  {
   "cell_type": "code",
   "execution_count": 127,
   "id": "f7a0e401",
   "metadata": {},
   "outputs": [
    {
     "data": {
      "text/html": [
       "<div>\n",
       "<style scoped>\n",
       "    .dataframe tbody tr th:only-of-type {\n",
       "        vertical-align: middle;\n",
       "    }\n",
       "\n",
       "    .dataframe tbody tr th {\n",
       "        vertical-align: top;\n",
       "    }\n",
       "\n",
       "    .dataframe thead th {\n",
       "        text-align: right;\n",
       "    }\n",
       "</style>\n",
       "<table border=\"1\" class=\"dataframe\">\n",
       "  <thead>\n",
       "    <tr style=\"text-align: right;\">\n",
       "      <th></th>\n",
       "      <th>Artist</th>\n",
       "      <th>Genero</th>\n",
       "    </tr>\n",
       "  </thead>\n",
       "  <tbody>\n",
       "    <tr>\n",
       "      <th>0</th>\n",
       "      <td>Gorillaz</td>\n",
       "      <td>alternative hip hop, modern rock, rock</td>\n",
       "    </tr>\n",
       "    <tr>\n",
       "      <th>1</th>\n",
       "      <td>Red Hot Chili Peppers</td>\n",
       "      <td>alternative rock, funk metal, funk rock, perma...</td>\n",
       "    </tr>\n",
       "    <tr>\n",
       "      <th>2</th>\n",
       "      <td>50 Cent</td>\n",
       "      <td>east coast hip hop, gangster rap, hip hop, pop...</td>\n",
       "    </tr>\n",
       "    <tr>\n",
       "      <th>3</th>\n",
       "      <td>Metallica</td>\n",
       "      <td>hard rock, metal, old school thrash, rock, thr...</td>\n",
       "    </tr>\n",
       "    <tr>\n",
       "      <th>4</th>\n",
       "      <td>Coldplay</td>\n",
       "      <td>permanent wave, pop</td>\n",
       "    </tr>\n",
       "    <tr>\n",
       "      <th>...</th>\n",
       "      <td>...</td>\n",
       "      <td>...</td>\n",
       "    </tr>\n",
       "    <tr>\n",
       "      <th>2074</th>\n",
       "      <td>Grupo Frontera</td>\n",
       "      <td>musica chihuahuense</td>\n",
       "    </tr>\n",
       "    <tr>\n",
       "      <th>2075</th>\n",
       "      <td>Jung Kook</td>\n",
       "      <td>k-pop</td>\n",
       "    </tr>\n",
       "    <tr>\n",
       "      <th>2076</th>\n",
       "      <td>LE SSERAFIM</td>\n",
       "      <td>k-pop girl group</td>\n",
       "    </tr>\n",
       "    <tr>\n",
       "      <th>2077</th>\n",
       "      <td>ThxSoMch</td>\n",
       "      <td>bedroom r&amp;b</td>\n",
       "    </tr>\n",
       "    <tr>\n",
       "      <th>2078</th>\n",
       "      <td>SICK LEGEND</td>\n",
       "      <td>gym hardstyle</td>\n",
       "    </tr>\n",
       "  </tbody>\n",
       "</table>\n",
       "<p>2079 rows × 2 columns</p>\n",
       "</div>"
      ],
      "text/plain": [
       "                     Artist                                             Genero\n",
       "0                  Gorillaz             alternative hip hop, modern rock, rock\n",
       "1     Red Hot Chili Peppers  alternative rock, funk metal, funk rock, perma...\n",
       "2                   50 Cent  east coast hip hop, gangster rap, hip hop, pop...\n",
       "3                 Metallica  hard rock, metal, old school thrash, rock, thr...\n",
       "4                  Coldplay                                permanent wave, pop\n",
       "...                     ...                                                ...\n",
       "2074         Grupo Frontera                                musica chihuahuense\n",
       "2075              Jung Kook                                              k-pop\n",
       "2076            LE SSERAFIM                                   k-pop girl group\n",
       "2077               ThxSoMch                                        bedroom r&b\n",
       "2078            SICK LEGEND                                      gym hardstyle\n",
       "\n",
       "[2079 rows x 2 columns]"
      ]
     },
     "execution_count": 127,
     "metadata": {},
     "output_type": "execute_result"
    }
   ],
   "source": [
    "df_Artistas"
   ]
  },
  {
   "cell_type": "code",
   "execution_count": 129,
   "id": "ed24bbe9",
   "metadata": {},
   "outputs": [
    {
     "data": {
      "text/html": [
       "<div>\n",
       "<style scoped>\n",
       "    .dataframe tbody tr th:only-of-type {\n",
       "        vertical-align: middle;\n",
       "    }\n",
       "\n",
       "    .dataframe tbody tr th {\n",
       "        vertical-align: top;\n",
       "    }\n",
       "\n",
       "    .dataframe thead th {\n",
       "        text-align: right;\n",
       "    }\n",
       "</style>\n",
       "<table border=\"1\" class=\"dataframe\">\n",
       "  <thead>\n",
       "    <tr style=\"text-align: right;\">\n",
       "      <th></th>\n",
       "      <th>Artist</th>\n",
       "      <th>Genero</th>\n",
       "    </tr>\n",
       "  </thead>\n",
       "  <tbody>\n",
       "  </tbody>\n",
       "</table>\n",
       "</div>"
      ],
      "text/plain": [
       "Empty DataFrame\n",
       "Columns: [Artist, Genero]\n",
       "Index: []"
      ]
     },
     "execution_count": 129,
     "metadata": {},
     "output_type": "execute_result"
    }
   ],
   "source": [
    "df_Artistas[df_Artistas['Genero']==\"Género no disponible\"]"
   ]
  },
  {
   "cell_type": "code",
   "execution_count": 130,
   "id": "235106a5",
   "metadata": {},
   "outputs": [
    {
     "name": "stdout",
     "output_type": "stream",
     "text": [
      "Empty DataFrame\n",
      "Columns: [Artist, Genero]\n",
      "Index: []\n"
     ]
    }
   ],
   "source": [
    "# Filtrar filas donde 'Genero' contiene la palabra \"error\" (sin importar mayúsculas/minúsculas)\n",
    "errores = df_Artistas[df_Artistas['Genero'].str.contains(\"error\", case=False, na=False)]\n",
    "\n",
    "# Mostrar las filas que contienen la palabra \"error\"\n",
    "print(errores)\n"
   ]
  },
  {
   "cell_type": "code",
   "execution_count": 131,
   "id": "786d7f48",
   "metadata": {},
   "outputs": [
    {
     "name": "stdout",
     "output_type": "stream",
     "text": [
      "<class 'pandas.core.frame.DataFrame'>\n",
      "RangeIndex: 2079 entries, 0 to 2078\n",
      "Data columns (total 2 columns):\n",
      " #   Column  Non-Null Count  Dtype \n",
      "---  ------  --------------  ----- \n",
      " 0   Artist  2079 non-null   object\n",
      " 1   Genero  2079 non-null   object\n",
      "dtypes: object(2)\n",
      "memory usage: 32.6+ KB\n"
     ]
    }
   ],
   "source": [
    "df_Artistas.info()"
   ]
  },
  {
   "cell_type": "markdown",
   "id": "e55b001f",
   "metadata": {},
   "source": [
    "Como estas consultas a ls API de spotify son demoradas hay que guardar este archivo externamente."
   ]
  },
  {
   "cell_type": "code",
   "execution_count": 133,
   "id": "56bcdd9d",
   "metadata": {},
   "outputs": [],
   "source": [
    "df_Artistas.to_csv('Generos.csv', index=False)\n"
   ]
  },
  {
   "cell_type": "code",
   "execution_count": null,
   "id": "07af8405",
   "metadata": {},
   "outputs": [],
   "source": []
  }
 ],
 "metadata": {
  "kernelspec": {
   "display_name": "DS2",
   "language": "python",
   "name": "python3"
  },
  "language_info": {
   "codemirror_mode": {
    "name": "ipython",
    "version": 3
   },
   "file_extension": ".py",
   "mimetype": "text/x-python",
   "name": "python",
   "nbconvert_exporter": "python",
   "pygments_lexer": "ipython3",
   "version": "3.10.12"
  }
 },
 "nbformat": 4,
 "nbformat_minor": 5
}
