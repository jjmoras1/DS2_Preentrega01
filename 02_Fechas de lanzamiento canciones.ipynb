{
 "cells": [
  {
   "cell_type": "markdown",
   "id": "4404cc07",
   "metadata": {},
   "source": [
    "# Extracción de información de la URI de Spotify\n",
    "En este Notebook se va a extraer la información de la fecha de lanzamiento de cada canción usando la URI de spotify"
   ]
  },
  {
   "cell_type": "code",
   "execution_count": 1,
   "id": "a61a7544",
   "metadata": {},
   "outputs": [
    {
     "name": "stdout",
     "output_type": "stream",
     "text": [
      "Requirement already satisfied: spotipy in c:\\users\\h249003\\anaconda3\\lib\\site-packages (2.23.0)Note: you may need to restart the kernel to use updated packages.\n",
      "\n",
      "Requirement already satisfied: redis>=3.5.3 in c:\\users\\h249003\\anaconda3\\lib\\site-packages (from spotipy) (4.5.4)\n",
      "Requirement already satisfied: urllib3>=1.26.0 in c:\\users\\h249003\\anaconda3\\lib\\site-packages (from spotipy) (1.26.11)\n",
      "Requirement already satisfied: requests>=2.25.0 in c:\\users\\h249003\\anaconda3\\lib\\site-packages (from spotipy) (2.28.1)\n",
      "Requirement already satisfied: six>=1.15.0 in c:\\users\\h249003\\anaconda3\\lib\\site-packages (from spotipy) (1.16.0)\n",
      "Requirement already satisfied: async-timeout>=4.0.2 in c:\\users\\h249003\\anaconda3\\lib\\site-packages (from redis>=3.5.3->spotipy) (4.0.2)\n",
      "Requirement already satisfied: certifi>=2017.4.17 in c:\\users\\h249003\\anaconda3\\lib\\site-packages (from requests>=2.25.0->spotipy) (2022.9.14)\n",
      "Requirement already satisfied: idna<4,>=2.5 in c:\\users\\h249003\\anaconda3\\lib\\site-packages (from requests>=2.25.0->spotipy) (3.3)\n",
      "Requirement already satisfied: charset-normalizer<3,>=2 in c:\\users\\h249003\\anaconda3\\lib\\site-packages (from requests>=2.25.0->spotipy) (2.0.4)\n"
     ]
    }
   ],
   "source": [
    "pip install spotipy"
   ]
  },
  {
   "cell_type": "code",
   "execution_count": 1,
   "id": "ff1fc005",
   "metadata": {},
   "outputs": [],
   "source": [
    "import spotipy\n",
    "from spotipy.oauth2 import SpotifyClientCredentials"
   ]
  },
  {
   "cell_type": "code",
   "execution_count": 2,
   "id": "726d34d0",
   "metadata": {},
   "outputs": [],
   "source": [
    "# Copia y pega aquí tu Client ID y Client Secret de Spotify\n",
    "client_id = 'ca75f13f0dd54ce3992b9cfd16234307'\n",
    "client_secret = '396fae6eae2a47fd8e3beeaad315c80b'"
   ]
  },
  {
   "cell_type": "code",
   "execution_count": 3,
   "id": "b26a8091",
   "metadata": {},
   "outputs": [],
   "source": [
    "# Inicializa el objeto de autenticación de cliente de Spotipy\n",
    "client_credentials_manager = SpotifyClientCredentials(client_id=client_id, client_secret=client_secret)\n",
    "sp = spotipy.Spotify(client_credentials_manager=client_credentials_manager)"
   ]
  },
  {
   "cell_type": "code",
   "execution_count": 4,
   "id": "3cc5c1f7",
   "metadata": {},
   "outputs": [],
   "source": [
    "# Función para obtener la fecha de lanzamiento de una canción en Spotify\n",
    "def get_spotify_track_release_date(track_name, artist_name):\n",
    "    results = sp.search(q='track:{} artist:{}'.format(track_name, artist_name), type='track', limit=1)\n",
    "    if results['tracks']['items']:\n",
    "        track_uri = results['tracks']['items'][0]['uri']\n",
    "        track_info = sp.track(track_uri)\n",
    "        return track_info['album']['release_date']\n",
    "    else:\n",
    "        return None"
   ]
  },
  {
   "cell_type": "code",
   "execution_count": 5,
   "id": "a339e647",
   "metadata": {},
   "outputs": [
    {
     "name": "stdout",
     "output_type": "stream",
     "text": [
      "La fecha de lanzamiento de New Gold (feat. Tame Impala and Bootie Brown) de Gorillaz es 2023-02-24.\n"
     ]
    }
   ],
   "source": [
    "# Ejemplo de uso\n",
    "track_name = 'New Gold (feat. Tame Impala and Bootie Brown)'\n",
    "artist_name = 'Gorillaz'\n",
    "release_date = get_spotify_track_release_date(track_name, artist_name)\n",
    "if release_date:\n",
    "    print(f'La fecha de lanzamiento de {track_name} de {artist_name} es {release_date}.')\n",
    "else:\n",
    "    print(f'No se encontró información de {track_name} de {artist_name} en Spotify.')\n"
   ]
  },
  {
   "cell_type": "code",
   "execution_count": 6,
   "id": "5e9a161f",
   "metadata": {},
   "outputs": [
    {
     "data": {
      "text/plain": [
       "'2023-02-24'"
      ]
     },
     "execution_count": 6,
     "metadata": {},
     "output_type": "execute_result"
    }
   ],
   "source": [
    "release_date"
   ]
  },
  {
   "cell_type": "code",
   "execution_count": 7,
   "id": "609cba05",
   "metadata": {},
   "outputs": [],
   "source": [
    "import pandas as pd\n",
    "import numpy as np\n",
    "import matplotlib.pyplot as plt\n",
    "import seaborn as sns"
   ]
  },
  {
   "cell_type": "code",
   "execution_count": 8,
   "id": "c5f0ac46",
   "metadata": {},
   "outputs": [],
   "source": [
    "df=pd.read_csv(\"Youtube_Spotify2.csv\")"
   ]
  },
  {
   "cell_type": "code",
   "execution_count": 9,
   "id": "5df0eb4f",
   "metadata": {},
   "outputs": [
    {
     "data": {
      "text/html": [
       "<div>\n",
       "<style scoped>\n",
       "    .dataframe tbody tr th:only-of-type {\n",
       "        vertical-align: middle;\n",
       "    }\n",
       "\n",
       "    .dataframe tbody tr th {\n",
       "        vertical-align: top;\n",
       "    }\n",
       "\n",
       "    .dataframe thead th {\n",
       "        text-align: right;\n",
       "    }\n",
       "</style>\n",
       "<table border=\"1\" class=\"dataframe\">\n",
       "  <thead>\n",
       "    <tr style=\"text-align: right;\">\n",
       "      <th></th>\n",
       "      <th>Track_Id</th>\n",
       "      <th>Artist</th>\n",
       "      <th>Track</th>\n",
       "      <th>Album</th>\n",
       "      <th>Album_type</th>\n",
       "      <th>Danceability</th>\n",
       "      <th>Energy</th>\n",
       "      <th>Key</th>\n",
       "      <th>Loudness</th>\n",
       "      <th>Speechiness</th>\n",
       "      <th>...</th>\n",
       "      <th>Duration_ms</th>\n",
       "      <th>Title</th>\n",
       "      <th>Channel</th>\n",
       "      <th>Views</th>\n",
       "      <th>Likes</th>\n",
       "      <th>Comments</th>\n",
       "      <th>Licensed</th>\n",
       "      <th>official_video</th>\n",
       "      <th>Stream</th>\n",
       "      <th>Artist_ID</th>\n",
       "    </tr>\n",
       "  </thead>\n",
       "  <tbody>\n",
       "    <tr>\n",
       "      <th>0</th>\n",
       "      <td>0</td>\n",
       "      <td>Gorillaz</td>\n",
       "      <td>Feel Good Inc.</td>\n",
       "      <td>Demon Days</td>\n",
       "      <td>album</td>\n",
       "      <td>0.818</td>\n",
       "      <td>0.705</td>\n",
       "      <td>6.0</td>\n",
       "      <td>-6.679</td>\n",
       "      <td>0.1770</td>\n",
       "      <td>...</td>\n",
       "      <td>222640.0</td>\n",
       "      <td>Gorillaz - Feel Good Inc. (Official Video)</td>\n",
       "      <td>Gorillaz</td>\n",
       "      <td>693555221.0</td>\n",
       "      <td>6220896.0</td>\n",
       "      <td>169907.0</td>\n",
       "      <td>True</td>\n",
       "      <td>True</td>\n",
       "      <td>1.040235e+09</td>\n",
       "      <td>1</td>\n",
       "    </tr>\n",
       "    <tr>\n",
       "      <th>1</th>\n",
       "      <td>1</td>\n",
       "      <td>Gorillaz</td>\n",
       "      <td>Rhinestone Eyes</td>\n",
       "      <td>Plastic Beach</td>\n",
       "      <td>album</td>\n",
       "      <td>0.676</td>\n",
       "      <td>0.703</td>\n",
       "      <td>8.0</td>\n",
       "      <td>-5.815</td>\n",
       "      <td>0.0302</td>\n",
       "      <td>...</td>\n",
       "      <td>200173.0</td>\n",
       "      <td>Gorillaz - Rhinestone Eyes [Storyboard Film] (...</td>\n",
       "      <td>Gorillaz</td>\n",
       "      <td>72011645.0</td>\n",
       "      <td>1079128.0</td>\n",
       "      <td>31003.0</td>\n",
       "      <td>True</td>\n",
       "      <td>True</td>\n",
       "      <td>3.100837e+08</td>\n",
       "      <td>1</td>\n",
       "    </tr>\n",
       "    <tr>\n",
       "      <th>2</th>\n",
       "      <td>2</td>\n",
       "      <td>Gorillaz</td>\n",
       "      <td>New Gold (feat. Tame Impala and Bootie Brown)</td>\n",
       "      <td>New Gold (feat. Tame Impala and Bootie Brown)</td>\n",
       "      <td>single</td>\n",
       "      <td>0.695</td>\n",
       "      <td>0.923</td>\n",
       "      <td>1.0</td>\n",
       "      <td>-3.930</td>\n",
       "      <td>0.0522</td>\n",
       "      <td>...</td>\n",
       "      <td>215150.0</td>\n",
       "      <td>Gorillaz - New Gold ft. Tame Impala &amp; Bootie B...</td>\n",
       "      <td>Gorillaz</td>\n",
       "      <td>8435055.0</td>\n",
       "      <td>282142.0</td>\n",
       "      <td>7399.0</td>\n",
       "      <td>True</td>\n",
       "      <td>True</td>\n",
       "      <td>6.306347e+07</td>\n",
       "      <td>1</td>\n",
       "    </tr>\n",
       "    <tr>\n",
       "      <th>3</th>\n",
       "      <td>3</td>\n",
       "      <td>Gorillaz</td>\n",
       "      <td>On Melancholy Hill</td>\n",
       "      <td>Plastic Beach</td>\n",
       "      <td>album</td>\n",
       "      <td>0.689</td>\n",
       "      <td>0.739</td>\n",
       "      <td>2.0</td>\n",
       "      <td>-5.810</td>\n",
       "      <td>0.0260</td>\n",
       "      <td>...</td>\n",
       "      <td>233867.0</td>\n",
       "      <td>Gorillaz - On Melancholy Hill (Official Video)</td>\n",
       "      <td>Gorillaz</td>\n",
       "      <td>211754952.0</td>\n",
       "      <td>1788577.0</td>\n",
       "      <td>55229.0</td>\n",
       "      <td>True</td>\n",
       "      <td>True</td>\n",
       "      <td>4.346636e+08</td>\n",
       "      <td>1</td>\n",
       "    </tr>\n",
       "    <tr>\n",
       "      <th>4</th>\n",
       "      <td>4</td>\n",
       "      <td>Gorillaz</td>\n",
       "      <td>Clint Eastwood</td>\n",
       "      <td>Gorillaz</td>\n",
       "      <td>album</td>\n",
       "      <td>0.663</td>\n",
       "      <td>0.694</td>\n",
       "      <td>10.0</td>\n",
       "      <td>-8.627</td>\n",
       "      <td>0.1710</td>\n",
       "      <td>...</td>\n",
       "      <td>340920.0</td>\n",
       "      <td>Gorillaz - Clint Eastwood (Official Video)</td>\n",
       "      <td>Gorillaz</td>\n",
       "      <td>618480958.0</td>\n",
       "      <td>6197318.0</td>\n",
       "      <td>155930.0</td>\n",
       "      <td>True</td>\n",
       "      <td>True</td>\n",
       "      <td>6.172597e+08</td>\n",
       "      <td>1</td>\n",
       "    </tr>\n",
       "  </tbody>\n",
       "</table>\n",
       "<p>5 rows × 25 columns</p>\n",
       "</div>"
      ],
      "text/plain": [
       "   Track_Id    Artist                                          Track  \\\n",
       "0         0  Gorillaz                                 Feel Good Inc.   \n",
       "1         1  Gorillaz                                Rhinestone Eyes   \n",
       "2         2  Gorillaz  New Gold (feat. Tame Impala and Bootie Brown)   \n",
       "3         3  Gorillaz                             On Melancholy Hill   \n",
       "4         4  Gorillaz                                 Clint Eastwood   \n",
       "\n",
       "                                           Album Album_type  Danceability  \\\n",
       "0                                     Demon Days      album         0.818   \n",
       "1                                  Plastic Beach      album         0.676   \n",
       "2  New Gold (feat. Tame Impala and Bootie Brown)     single         0.695   \n",
       "3                                  Plastic Beach      album         0.689   \n",
       "4                                       Gorillaz      album         0.663   \n",
       "\n",
       "   Energy   Key  Loudness  Speechiness  ...  Duration_ms  \\\n",
       "0   0.705   6.0    -6.679       0.1770  ...     222640.0   \n",
       "1   0.703   8.0    -5.815       0.0302  ...     200173.0   \n",
       "2   0.923   1.0    -3.930       0.0522  ...     215150.0   \n",
       "3   0.739   2.0    -5.810       0.0260  ...     233867.0   \n",
       "4   0.694  10.0    -8.627       0.1710  ...     340920.0   \n",
       "\n",
       "                                               Title   Channel        Views  \\\n",
       "0         Gorillaz - Feel Good Inc. (Official Video)  Gorillaz  693555221.0   \n",
       "1  Gorillaz - Rhinestone Eyes [Storyboard Film] (...  Gorillaz   72011645.0   \n",
       "2  Gorillaz - New Gold ft. Tame Impala & Bootie B...  Gorillaz    8435055.0   \n",
       "3     Gorillaz - On Melancholy Hill (Official Video)  Gorillaz  211754952.0   \n",
       "4         Gorillaz - Clint Eastwood (Official Video)  Gorillaz  618480958.0   \n",
       "\n",
       "       Likes  Comments Licensed official_video        Stream  Artist_ID  \n",
       "0  6220896.0  169907.0     True           True  1.040235e+09          1  \n",
       "1  1079128.0   31003.0     True           True  3.100837e+08          1  \n",
       "2   282142.0    7399.0     True           True  6.306347e+07          1  \n",
       "3  1788577.0   55229.0     True           True  4.346636e+08          1  \n",
       "4  6197318.0  155930.0     True           True  6.172597e+08          1  \n",
       "\n",
       "[5 rows x 25 columns]"
      ]
     },
     "execution_count": 9,
     "metadata": {},
     "output_type": "execute_result"
    }
   ],
   "source": [
    "df.head()"
   ]
  },
  {
   "cell_type": "code",
   "execution_count": 10,
   "id": "603128cc",
   "metadata": {},
   "outputs": [
    {
     "name": "stdout",
     "output_type": "stream",
     "text": [
      "<class 'pandas.core.frame.DataFrame'>\n",
      "RangeIndex: 20718 entries, 0 to 20717\n",
      "Data columns (total 25 columns):\n",
      " #   Column            Non-Null Count  Dtype  \n",
      "---  ------            --------------  -----  \n",
      " 0   Track_Id          20718 non-null  int64  \n",
      " 1   Artist            20718 non-null  object \n",
      " 2   Track             20718 non-null  object \n",
      " 3   Album             20718 non-null  object \n",
      " 4   Album_type        20718 non-null  object \n",
      " 5   Danceability      20716 non-null  float64\n",
      " 6   Energy            20716 non-null  float64\n",
      " 7   Key               20716 non-null  float64\n",
      " 8   Loudness          20716 non-null  float64\n",
      " 9   Speechiness       20716 non-null  float64\n",
      " 10  Acousticness      20716 non-null  float64\n",
      " 11  Instrumentalness  20716 non-null  float64\n",
      " 12  Liveness          20716 non-null  float64\n",
      " 13  Valence           20716 non-null  float64\n",
      " 14  Tempo             20716 non-null  float64\n",
      " 15  Duration_ms       20716 non-null  float64\n",
      " 16  Title             20248 non-null  object \n",
      " 17  Channel           20248 non-null  object \n",
      " 18  Views             20248 non-null  float64\n",
      " 19  Likes             20177 non-null  float64\n",
      " 20  Comments          20149 non-null  float64\n",
      " 21  Licensed          20248 non-null  object \n",
      " 22  official_video    20248 non-null  object \n",
      " 23  Stream            20142 non-null  float64\n",
      " 24  Artist_ID         20718 non-null  int64  \n",
      "dtypes: float64(15), int64(2), object(8)\n",
      "memory usage: 4.0+ MB\n"
     ]
    }
   ],
   "source": [
    "df.info()"
   ]
  },
  {
   "cell_type": "code",
   "execution_count": 11,
   "id": "fe5e368e",
   "metadata": {},
   "outputs": [
    {
     "data": {
      "text/plain": [
       "20718"
      ]
     },
     "execution_count": 11,
     "metadata": {},
     "output_type": "execute_result"
    }
   ],
   "source": [
    "len(df)"
   ]
  },
  {
   "cell_type": "code",
   "execution_count": 12,
   "id": "8ffe0951",
   "metadata": {},
   "outputs": [
    {
     "name": "stdout",
     "output_type": "stream",
     "text": [
      "CPU times: user 62 μs, sys: 7 μs, total: 69 μs\n",
      "Wall time: 76.8 μs\n"
     ]
    },
    {
     "data": {
      "text/plain": [
       "'Rhinestone Eyes'"
      ]
     },
     "execution_count": 12,
     "metadata": {},
     "output_type": "execute_result"
    }
   ],
   "source": [
    "%time df['Track'][1]"
   ]
  },
  {
   "cell_type": "code",
   "execution_count": 13,
   "id": "9c92f1c2",
   "metadata": {},
   "outputs": [],
   "source": [
    "# Ejemplo de uso\n",
    "df['Date'] = pd.Series([None]*len(df))\n"
   ]
  },
  {
   "cell_type": "code",
   "execution_count": 14,
   "id": "62f41c40",
   "metadata": {},
   "outputs": [],
   "source": [
    "df4=df.head(10)"
   ]
  },
  {
   "cell_type": "code",
   "execution_count": 22,
   "id": "53de98d6",
   "metadata": {},
   "outputs": [
    {
     "name": "stdout",
     "output_type": "stream",
     "text": [
      "Wall time: 3.38 s\n"
     ]
    },
    {
     "name": "stderr",
     "output_type": "stream",
     "text": [
      "<timed exec>:1: SettingWithCopyWarning: \n",
      "A value is trying to be set on a copy of a slice from a DataFrame.\n",
      "Try using .loc[row_indexer,col_indexer] = value instead\n",
      "\n",
      "See the caveats in the documentation: https://pandas.pydata.org/pandas-docs/stable/user_guide/indexing.html#returning-a-view-versus-a-copy\n"
     ]
    }
   ],
   "source": [
    "%%time \n",
    "df4['columna3'] = df4.apply(lambda row: get_spotify_track_release_date(row['Track'], row['Artist']), axis=1)\n"
   ]
  },
  {
   "cell_type": "code",
   "execution_count": 32,
   "id": "d2837c72",
   "metadata": {},
   "outputs": [],
   "source": [
    "df1000 = df.iloc[0:1000]\n"
   ]
  },
  {
   "cell_type": "code",
   "execution_count": 33,
   "id": "b73501e4",
   "metadata": {},
   "outputs": [
    {
     "name": "stdout",
     "output_type": "stream",
     "text": [
      "Wall time: 4min 44s\n"
     ]
    }
   ],
   "source": [
    "%%time\n",
    "for i in range(0, 1000):\n",
    "    df1000.loc[i, 'Date'] = get_spotify_track_release_date(df.loc[i, 'Track'], artist_name = df.loc[i, 'Artist'])"
   ]
  },
  {
   "cell_type": "code",
   "execution_count": 44,
   "id": "f0bfd134",
   "metadata": {},
   "outputs": [],
   "source": [
    "df1000.to_csv('df1000.csv')  "
   ]
  },
  {
   "cell_type": "code",
   "execution_count": 46,
   "id": "2e1b4e51",
   "metadata": {},
   "outputs": [],
   "source": [
    "df2000 = df.iloc[1000:3000]\n"
   ]
  },
  {
   "cell_type": "code",
   "execution_count": 47,
   "id": "df8459e1",
   "metadata": {},
   "outputs": [
    {
     "name": "stdout",
     "output_type": "stream",
     "text": [
      "Wall time: 9min 11s\n"
     ]
    }
   ],
   "source": [
    "%%time\n",
    "\n",
    "for i in range(1000, 3000):\n",
    "    df2000.loc[i, 'Date'] = get_spotify_track_release_date(df.loc[i, 'Track'], artist_name = df.loc[i, 'Artist'])"
   ]
  },
  {
   "cell_type": "code",
   "execution_count": 48,
   "id": "09bc59f0",
   "metadata": {},
   "outputs": [],
   "source": [
    "df2000.to_csv('df1000_3000.csv') "
   ]
  },
  {
   "cell_type": "code",
   "execution_count": 49,
   "id": "a3190c34",
   "metadata": {},
   "outputs": [],
   "source": [
    "df4000 = df.iloc[3000:7000]"
   ]
  },
  {
   "cell_type": "code",
   "execution_count": 50,
   "id": "a1303e7c",
   "metadata": {},
   "outputs": [
    {
     "name": "stdout",
     "output_type": "stream",
     "text": [
      "Wall time: 19min 56s\n"
     ]
    }
   ],
   "source": [
    "%%time\n",
    "\n",
    "for i in range(3000, 7000):\n",
    "    df4000.loc[i, 'Date'] = get_spotify_track_release_date(df.loc[i, 'Track'], artist_name = df.loc[i, 'Artist'])"
   ]
  },
  {
   "cell_type": "code",
   "execution_count": 51,
   "id": "aa99f20e",
   "metadata": {},
   "outputs": [],
   "source": [
    "df4000.to_csv('df3000_7000.csv')"
   ]
  },
  {
   "cell_type": "code",
   "execution_count": 23,
   "id": "c3c480ea",
   "metadata": {},
   "outputs": [],
   "source": [
    "df7000_11000 = df.iloc[7000:11000]"
   ]
  },
  {
   "cell_type": "code",
   "execution_count": 24,
   "id": "f339deef",
   "metadata": {},
   "outputs": [
    {
     "name": "stdout",
     "output_type": "stream",
     "text": [
      "Wall time: 20min 37s\n"
     ]
    }
   ],
   "source": [
    "%%time\n",
    "\n",
    "for i in range(7000, 11000):\n",
    "    df7000_11000.loc[i, 'Date'] = get_spotify_track_release_date(df.loc[i, 'Track'], artist_name = df.loc[i, 'Artist'])"
   ]
  },
  {
   "cell_type": "code",
   "execution_count": null,
   "id": "a11f69b6",
   "metadata": {},
   "outputs": [],
   "source": []
  },
  {
   "cell_type": "code",
   "execution_count": 25,
   "id": "55e1903c",
   "metadata": {},
   "outputs": [],
   "source": [
    "df7000_11000.to_csv('df7000_11000.csv')"
   ]
  },
  {
   "cell_type": "code",
   "execution_count": 30,
   "id": "684d2af5",
   "metadata": {},
   "outputs": [],
   "source": [
    "df11000_15000 = df.iloc[11000:15000]"
   ]
  },
  {
   "cell_type": "code",
   "execution_count": 31,
   "id": "94392ea4",
   "metadata": {},
   "outputs": [
    {
     "name": "stdout",
     "output_type": "stream",
     "text": [
      "Wall time: 19min 6s\n"
     ]
    }
   ],
   "source": [
    "%%time\n",
    "\n",
    "for i in range(11000, 15000):\n",
    "    df11000_15000.loc[i, 'Date'] = get_spotify_track_release_date(df.loc[i, 'Track'], artist_name = df.loc[i, 'Artist'])"
   ]
  },
  {
   "cell_type": "code",
   "execution_count": 32,
   "id": "ab2837e4",
   "metadata": {},
   "outputs": [],
   "source": [
    "df11000_15000.to_csv('df11000_15000.csv')"
   ]
  },
  {
   "cell_type": "code",
   "execution_count": 21,
   "id": "3c9202d4",
   "metadata": {},
   "outputs": [],
   "source": [
    "df15000_19000 = df.iloc[15000:19000]"
   ]
  },
  {
   "cell_type": "code",
   "execution_count": 22,
   "id": "96133d67",
   "metadata": {},
   "outputs": [
    {
     "name": "stdout",
     "output_type": "stream",
     "text": [
      "Wall time: 18min 36s\n"
     ]
    }
   ],
   "source": [
    "%%time\n",
    "\n",
    "for i in range(15000, 19000):\n",
    "    df15000_19000.loc[i, 'Date'] = get_spotify_track_release_date(df.loc[i, 'Track'], artist_name = df.loc[i, 'Artist'])"
   ]
  },
  {
   "cell_type": "code",
   "execution_count": 23,
   "id": "39662260",
   "metadata": {},
   "outputs": [],
   "source": [
    "df15000_19000.to_csv('df15000_19000.csv')"
   ]
  },
  {
   "cell_type": "code",
   "execution_count": 24,
   "id": "3392fcc3",
   "metadata": {},
   "outputs": [],
   "source": [
    "df19000_20718 = df.iloc[19000:20718]"
   ]
  },
  {
   "cell_type": "code",
   "execution_count": 25,
   "id": "724ca7e0",
   "metadata": {},
   "outputs": [
    {
     "name": "stdout",
     "output_type": "stream",
     "text": [
      "Wall time: 7min 42s\n"
     ]
    }
   ],
   "source": [
    "%%time\n",
    "\n",
    "for i in range(19000, 20718):\n",
    "    df19000_20718.loc[i, 'Date'] = get_spotify_track_release_date(df.loc[i, 'Track'], artist_name = df.loc[i, 'Artist'])"
   ]
  },
  {
   "cell_type": "code",
   "execution_count": 56,
   "id": "c745b9ba",
   "metadata": {},
   "outputs": [
    {
     "name": "stdout",
     "output_type": "stream",
     "text": [
      "Wall time: 8min 5s\n"
     ]
    }
   ],
   "source": [
    "%%time\n",
    "dftest = df.iloc[19000:20718]\n",
    "for i in range(19000, 20718):\n",
    "    dftest.loc[i, 'Date'] = get_spotify_track_release_date(df.loc[i, 'Track'], artist_name = df.loc[i, 'Artist'])"
   ]
  },
  {
   "cell_type": "code",
   "execution_count": 26,
   "id": "e8ebcc3c",
   "metadata": {},
   "outputs": [],
   "source": [
    "df19000_20718.to_csv('df19000_20718.csv')"
   ]
  },
  {
   "cell_type": "code",
   "execution_count": 27,
   "id": "5e516d34",
   "metadata": {},
   "outputs": [],
   "source": []
  }
 ],
 "metadata": {
  "kernelspec": {
   "display_name": "Python 3 (ipykernel)",
   "language": "python",
   "name": "python3"
  },
  "language_info": {
   "codemirror_mode": {
    "name": "ipython",
    "version": 3
   },
   "file_extension": ".py",
   "mimetype": "text/x-python",
   "name": "python",
   "nbconvert_exporter": "python",
   "pygments_lexer": "ipython3",
   "version": "3.10.12"
  }
 },
 "nbformat": 4,
 "nbformat_minor": 5
}
